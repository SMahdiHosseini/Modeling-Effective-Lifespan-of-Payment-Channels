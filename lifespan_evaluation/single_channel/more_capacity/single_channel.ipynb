{
 "cells": [
  {
   "cell_type": "code",
   "execution_count": 1,
   "metadata": {},
   "outputs": [],
   "source": [
    "import matplotlib.pyplot as plt\n",
    "import numpy as np\n",
    "import pandas as pd\n",
    "import networkx as nx\n",
    "import scipy as sp\n",
    "from scipy import stats\n",
    "\n",
    "# import sys\n",
    "plt.style.use('ggplot')\n",
    "plt.rcParams['figure.figsize'] = (15, 10)\n",
    "plt.rcParams.update({\n",
    "    \"lines.color\": \"black\",\n",
    "    \"patch.edgecolor\": \"black\",\n",
    "    \"text.color\": \"black\",\n",
    "    \"axes.facecolor\": \"white\",\n",
    "    \"axes.edgecolor\": \"black\",\n",
    "    \"axes.labelcolor\": \"black\",\n",
    "    \"xtick.color\": \"black\",\n",
    "    \"ytick.color\": \"black\",\n",
    "    \"grid.color\": \"white\",\n",
    "    \"figure.facecolor\": \"white\",\n",
    "    \"figure.edgecolor\": \"white\",\n",
    "    \"savefig.facecolor\": \"white\",\n",
    "    \"savefig.edgecolor\": \"white\",\n",
    "    \"font.size\": 25})"
   ]
  },
  {
   "cell_type": "code",
   "execution_count": 2,
   "metadata": {},
   "outputs": [],
   "source": [
    "real_df = pd.read_csv(\"lifeTimes_real.csv\")\n",
    "prediction_df = pd.read_csv(\"lifeTimes.csv\")"
   ]
  },
  {
   "cell_type": "code",
   "execution_count": 12,
   "metadata": {},
   "outputs": [],
   "source": [
    "real = []\n",
    "pred = []\n",
    "p_values = []\n",
    "t = []\n",
    "for index, row in real_df.iterrows():\n",
    "    real_life_time = row['life_time']\n",
    "    real_life_time_error = row['error']\n",
    "    predicted_life_time = prediction_df.iloc[index]['life_time']\n",
    "    if real_life_time == -1:\n",
    "        continue\n",
    "    real.append(real_life_time)\n",
    "    pred.append(predicted_life_time)\n",
    "    p_values.append(stats.t.sf(np.abs(((real_life_time - predicted_life_time) / real_life_time_error)), row['count'] - 1) * 2)\n",
    "    t.append(np.abs(((real_life_time - predicted_life_time) / real_life_time_error)))"
   ]
  },
  {
   "cell_type": "code",
   "execution_count": 13,
   "metadata": {},
   "outputs": [
    {
     "name": "stdout",
     "output_type": "stream",
     "text": [
      "0.00013981883721885386\n"
     ]
    }
   ],
   "source": [
    "print(np.average(p_values))"
   ]
  },
  {
   "cell_type": "code",
   "execution_count": 11,
   "metadata": {},
   "outputs": [
    {
     "name": "stdout",
     "output_type": "stream",
     "text": [
      "0.08345793175889998\n",
      "[3.820162498625906]\n"
     ]
    }
   ],
   "source": [
    "error = np.abs(real[0] - pred[0]) / real[0]\n",
    "print(error)\n",
    "print(t)"
   ]
  }
 ],
 "metadata": {
  "interpreter": {
   "hash": "31f2aee4e71d21fbe5cf8b01ff0e069b9275f58929596ceb00d14d90e3e16cd6"
  },
  "kernelspec": {
   "display_name": "Python 3.8.10 64-bit",
   "language": "python",
   "name": "python3"
  },
  "language_info": {
   "codemirror_mode": {
    "name": "ipython",
    "version": 3
   },
   "file_extension": ".py",
   "mimetype": "text/x-python",
   "name": "python",
   "nbconvert_exporter": "python",
   "pygments_lexer": "ipython3",
   "version": "3.8.10"
  },
  "orig_nbformat": 4
 },
 "nbformat": 4,
 "nbformat_minor": 2
}
